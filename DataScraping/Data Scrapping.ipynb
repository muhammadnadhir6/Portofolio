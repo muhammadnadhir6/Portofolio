{
 "cells": [
  {
   "cell_type": "markdown",
   "id": "6590cee2",
   "metadata": {},
   "source": [
    "# DATA SCRAPING"
   ]
  },
  {
   "cell_type": "markdown",
   "id": "e60a29e4",
   "metadata": {},
   "source": [
    "In this project, we will try to use python for data scraping from a website. What we need to do is :\n",
    "1. Pick a table/data in a website (in this case we choose Wikipedia) that we want to get\n",
    "2. Scraping it from html to python\n",
    "3. Export it to local storage as csv file "
   ]
  },
  {
   "cell_type": "markdown",
   "id": "dd4386af",
   "metadata": {},
   "source": [
    "# Library"
   ]
  },
  {
   "cell_type": "code",
   "execution_count": 1,
   "id": "d7bb6dda",
   "metadata": {},
   "outputs": [],
   "source": [
    "from bs4 import BeautifulSoup #For parsing html documents\n",
    "import requests\n",
    "import pandas as pd #For data manipulation"
   ]
  },
  {
   "cell_type": "markdown",
   "id": "edc2f263",
   "metadata": {},
   "source": [
    "## Part I : Pick a Table from the Website"
   ]
  },
  {
   "cell_type": "markdown",
   "id": "c256f658",
   "metadata": {},
   "source": [
    "Link : https://en.wikipedia.org/wiki/List_of_largest_companies_in_the_United_States_by_revenue"
   ]
  },
  {
   "cell_type": "code",
   "execution_count": 2,
   "id": "bffad5c7",
   "metadata": {},
   "outputs": [],
   "source": [
    "#Insert the website link where the table is located\n",
    "url  = 'https://en.wikipedia.org/wiki/List_of_largest_companies_in_the_United_States_by_revenue'\n",
    "page = requests.get(url)"
   ]
  },
  {
   "cell_type": "markdown",
   "id": "cf789d9d",
   "metadata": {},
   "source": [
    "## Part 2 : Scraping Table from HTML Page to Python Worksheet"
   ]
  },
  {
   "cell_type": "code",
   "execution_count": 3,
   "id": "c9518244",
   "metadata": {},
   "outputs": [
    {
     "name": "stdout",
     "output_type": "stream",
     "text": [
      "[<th>Rank\n",
      "</th>, <th>Name\n",
      "</th>, <th>Industry\n",
      "</th>, <th>Revenue <br/>(USD millions)\n",
      "</th>, <th>Revenue growth\n",
      "</th>, <th>Employees\n",
      "</th>, <th>Headquarters\n",
      "</th>]\n"
     ]
    }
   ],
   "source": [
    "#Parsing the web page to html text\n",
    "soup = BeautifulSoup(page.text, 'html')\n",
    "\n",
    "#Finding the table html code\n",
    "table = soup.find_all('table')[1] #[1] to specify what we're looking for is the first table out of all three tables\n",
    "\n",
    "#Finding the columns html code\n",
    "header = table.find_all('th') #th is html tag for table header or column\n",
    "print(header)"
   ]
  },
  {
   "cell_type": "markdown",
   "id": "cb19bfed",
   "metadata": {},
   "source": [
    "From the table html code, we need to find the specific columns, rows, and data"
   ]
  },
  {
   "cell_type": "code",
   "execution_count": 4,
   "id": "a3b5fba6",
   "metadata": {
    "scrolled": false
   },
   "outputs": [
    {
     "name": "stdout",
     "output_type": "stream",
     "text": [
      "['Rank', 'Name', 'Industry', 'Revenue (USD millions)', 'Revenue growth', 'Employees', 'Headquarters']\n"
     ]
    }
   ],
   "source": [
    "#Removing the html tag for a cleaner result\n",
    "header_table = [title.text.strip() for title in header]\n",
    "print(header_table)"
   ]
  },
  {
   "cell_type": "code",
   "execution_count": 5,
   "id": "e836b340",
   "metadata": {},
   "outputs": [
    {
     "data": {
      "text/html": [
       "<div>\n",
       "<style scoped>\n",
       "    .dataframe tbody tr th:only-of-type {\n",
       "        vertical-align: middle;\n",
       "    }\n",
       "\n",
       "    .dataframe tbody tr th {\n",
       "        vertical-align: top;\n",
       "    }\n",
       "\n",
       "    .dataframe thead th {\n",
       "        text-align: right;\n",
       "    }\n",
       "</style>\n",
       "<table border=\"1\" class=\"dataframe\">\n",
       "  <thead>\n",
       "    <tr style=\"text-align: right;\">\n",
       "      <th></th>\n",
       "      <th>Rank</th>\n",
       "      <th>Name</th>\n",
       "      <th>Industry</th>\n",
       "      <th>Revenue (USD millions)</th>\n",
       "      <th>Revenue growth</th>\n",
       "      <th>Employees</th>\n",
       "      <th>Headquarters</th>\n",
       "    </tr>\n",
       "  </thead>\n",
       "  <tbody>\n",
       "  </tbody>\n",
       "</table>\n",
       "</div>"
      ],
      "text/plain": [
       "Empty DataFrame\n",
       "Columns: [Rank, Name, Industry, Revenue (USD millions), Revenue growth, Employees, Headquarters]\n",
       "Index: []"
      ]
     },
     "execution_count": 5,
     "metadata": {},
     "output_type": "execute_result"
    }
   ],
   "source": [
    "#Using panda to convert the column list into a proper table\n",
    "df = pd.DataFrame(columns = header_table)\n",
    "df"
   ]
  },
  {
   "cell_type": "code",
   "execution_count": 6,
   "id": "cd1319c7",
   "metadata": {},
   "outputs": [
    {
     "name": "stdout",
     "output_type": "stream",
     "text": [
      "['1\\n\\nWalmart\\n\\nRetail\\n\\n611,289\\n\\n  6.7%\\n\\n2,100,000\\n\\nBentonville, Arkansas', '2\\n\\nAmazon\\n\\nRetail and cloud computing\\n\\n513,983\\n\\n  9.4%\\n\\n1,540,000\\n\\nSeattle, Washington', '3\\n\\nExxonMobil\\n\\nPetroleum industry\\n\\n413,680\\n\\n  44.8%\\n\\n62,000\\n\\nSpring, Texas', '4\\n\\nApple\\n\\nElectronics industry\\n\\n394,328\\n\\n  7.8%\\n\\n164,000\\n\\nCupertino, California', '5\\n\\nUnitedHealth Group\\n\\nHealthcare\\n\\n324,162\\n\\n  12.7%\\n\\n400,000\\n\\nMinnetonka, Minnesota', '6\\n\\nCVS Health\\n\\nHealthcare\\n\\n322,467\\n\\n  10.4%\\n\\n259,500\\n\\nWoonsocket, Rhode Island', '7\\n\\nBerkshire Hathaway\\n\\nConglomerate\\n\\n302,089\\n\\n  9.4%\\n\\n383,000\\n\\nOmaha, Nebraska', '8\\n\\nAlphabet\\n\\nTechnology and Cloud Computing\\n\\n282,836\\n\\n  9.8%\\n\\n156,000\\n\\nMountain View, California', '9\\n\\nMcKesson Corporation\\n\\nHealth\\n\\n276,711\\n\\n  4.8%\\n\\n48,500\\n\\nIrving, Texas', '10\\n\\nChevron Corporation\\n\\nPetroleum industry\\n\\n246,252\\n\\n  51.6%\\n\\n43,846\\n\\nSan Ramon, California', '11\\n\\nAmerisourceBergen\\n\\nPharmaceutical industry\\n\\n238,587\\n\\n  11.5%\\n\\n41,500\\n\\nChesterbrook, Pennsylvania', '12\\n\\nCostco\\n\\nRetail\\n\\n226,954\\n\\n  15.8%\\n\\n304,000\\n\\nIssaquah, Washington', '13\\n\\nMicrosoft\\n\\nTechnology and Cloud Computing\\n\\n198,270\\n\\n  18.0%\\n\\n221,000\\n\\nRedmond, Washington', '14\\n\\nCardinal Health\\n\\nHealthcare\\n\\n181,364\\n\\n  11.6%\\n\\n46,035\\n\\nDublin, Ohio', '15\\n\\nCigna\\n\\nHealth Insurance\\n\\n180,516\\n\\n  3.7%\\n\\n70,231\\n\\nBloomfield, Connecticut', '16\\n\\nMarathon Petroleum\\n\\nPetroleum industry\\n\\n180,012\\n\\n  27.6%\\n\\n17,800\\n\\nFindlay, Ohio', '17\\n\\nPhillips 66\\n\\nPetroleum industry\\n\\n175,702\\n\\n  53.0%\\n\\n13,000\\n\\nHouston, Texas', '18\\n\\nValero Energy\\n\\nPetroleum industry\\n\\n171,189\\n\\n  58.0%\\n\\n9,743\\n\\nSan Antonio, Texas', '19\\n\\nFord Motor Company\\n\\nAutomotive industry\\n\\n158,057\\n\\n  15.9%\\n\\n173,000\\n\\nDearborn, Michigan']\n"
     ]
    }
   ],
   "source": [
    "#Finding the table rows html code\n",
    "find_row = table.find_all('tr') #tr is html tag for table rows\n",
    "\n",
    "#Removing the html tag for a better preview\n",
    "row_table = [row.text.strip() for row in find_row[1:20]] #Only preview the first twenty rows\n",
    "print(row_table)"
   ]
  },
  {
   "cell_type": "code",
   "execution_count": 7,
   "id": "bf1874b3",
   "metadata": {},
   "outputs": [
    {
     "name": "stdout",
     "output_type": "stream",
     "text": [
      "['100', 'Qualcomm', 'Technology', '44,200', '31.7%', '51,000', 'San Diego, California']\n"
     ]
    }
   ],
   "source": [
    "#Finding the data in the table\n",
    "for row in find_row:\n",
    "    data_table = row.find_all('td') #td is html tag for table data\n",
    "\n",
    "#Removing the html tag for a better preview\n",
    "individual_row_data = [data.text.strip() for data in data_table]\n",
    "print(individual_row_data)"
   ]
  },
  {
   "cell_type": "code",
   "execution_count": 8,
   "id": "5eeff95e",
   "metadata": {},
   "outputs": [],
   "source": [
    "#Connecting the columns, rows, and data to make the final table \n",
    "for row in find_row[1:]: #1: to remove the [] in the first row\n",
    "    data_table = row.find_all('td')\n",
    "    individual_data_table = [data.text.strip() for data in data_table]\n",
    "    length = len(df) #Identifying the length of the table\n",
    "    df.loc[length] = individual_data_table #Fitting the data into particular rows and columns"
   ]
  },
  {
   "cell_type": "code",
   "execution_count": 9,
   "id": "313eee31",
   "metadata": {},
   "outputs": [
    {
     "data": {
      "text/html": [
       "<div>\n",
       "<style scoped>\n",
       "    .dataframe tbody tr th:only-of-type {\n",
       "        vertical-align: middle;\n",
       "    }\n",
       "\n",
       "    .dataframe tbody tr th {\n",
       "        vertical-align: top;\n",
       "    }\n",
       "\n",
       "    .dataframe thead th {\n",
       "        text-align: right;\n",
       "    }\n",
       "</style>\n",
       "<table border=\"1\" class=\"dataframe\">\n",
       "  <thead>\n",
       "    <tr style=\"text-align: right;\">\n",
       "      <th></th>\n",
       "      <th>Rank</th>\n",
       "      <th>Name</th>\n",
       "      <th>Industry</th>\n",
       "      <th>Revenue (USD millions)</th>\n",
       "      <th>Revenue growth</th>\n",
       "      <th>Employees</th>\n",
       "      <th>Headquarters</th>\n",
       "    </tr>\n",
       "  </thead>\n",
       "  <tbody>\n",
       "    <tr>\n",
       "      <th>0</th>\n",
       "      <td>1</td>\n",
       "      <td>Walmart</td>\n",
       "      <td>Retail</td>\n",
       "      <td>611,289</td>\n",
       "      <td>6.7%</td>\n",
       "      <td>2,100,000</td>\n",
       "      <td>Bentonville, Arkansas</td>\n",
       "    </tr>\n",
       "    <tr>\n",
       "      <th>1</th>\n",
       "      <td>2</td>\n",
       "      <td>Amazon</td>\n",
       "      <td>Retail and cloud computing</td>\n",
       "      <td>513,983</td>\n",
       "      <td>9.4%</td>\n",
       "      <td>1,540,000</td>\n",
       "      <td>Seattle, Washington</td>\n",
       "    </tr>\n",
       "    <tr>\n",
       "      <th>2</th>\n",
       "      <td>3</td>\n",
       "      <td>ExxonMobil</td>\n",
       "      <td>Petroleum industry</td>\n",
       "      <td>413,680</td>\n",
       "      <td>44.8%</td>\n",
       "      <td>62,000</td>\n",
       "      <td>Spring, Texas</td>\n",
       "    </tr>\n",
       "    <tr>\n",
       "      <th>3</th>\n",
       "      <td>4</td>\n",
       "      <td>Apple</td>\n",
       "      <td>Electronics industry</td>\n",
       "      <td>394,328</td>\n",
       "      <td>7.8%</td>\n",
       "      <td>164,000</td>\n",
       "      <td>Cupertino, California</td>\n",
       "    </tr>\n",
       "    <tr>\n",
       "      <th>4</th>\n",
       "      <td>5</td>\n",
       "      <td>UnitedHealth Group</td>\n",
       "      <td>Healthcare</td>\n",
       "      <td>324,162</td>\n",
       "      <td>12.7%</td>\n",
       "      <td>400,000</td>\n",
       "      <td>Minnetonka, Minnesota</td>\n",
       "    </tr>\n",
       "    <tr>\n",
       "      <th>...</th>\n",
       "      <td>...</td>\n",
       "      <td>...</td>\n",
       "      <td>...</td>\n",
       "      <td>...</td>\n",
       "      <td>...</td>\n",
       "      <td>...</td>\n",
       "      <td>...</td>\n",
       "    </tr>\n",
       "    <tr>\n",
       "      <th>95</th>\n",
       "      <td>96</td>\n",
       "      <td>Best Buy</td>\n",
       "      <td>Retail</td>\n",
       "      <td>46,298</td>\n",
       "      <td>10.6%</td>\n",
       "      <td>71,100</td>\n",
       "      <td>Richfield, Minnesota</td>\n",
       "    </tr>\n",
       "    <tr>\n",
       "      <th>96</th>\n",
       "      <td>97</td>\n",
       "      <td>Bristol-Myers Squibb</td>\n",
       "      <td>Pharmaceutical industry</td>\n",
       "      <td>46,159</td>\n",
       "      <td>0.5%</td>\n",
       "      <td>34,300</td>\n",
       "      <td>New York City, New York</td>\n",
       "    </tr>\n",
       "    <tr>\n",
       "      <th>97</th>\n",
       "      <td>98</td>\n",
       "      <td>United Airlines</td>\n",
       "      <td>Airline</td>\n",
       "      <td>44,955</td>\n",
       "      <td>82.5%</td>\n",
       "      <td>92,795</td>\n",
       "      <td>Chicago, Illinois</td>\n",
       "    </tr>\n",
       "    <tr>\n",
       "      <th>98</th>\n",
       "      <td>99</td>\n",
       "      <td>Thermo Fisher Scientific</td>\n",
       "      <td>Laboratory instruments</td>\n",
       "      <td>44,915</td>\n",
       "      <td>14.5%</td>\n",
       "      <td>130,000</td>\n",
       "      <td>Waltham, Massachusetts</td>\n",
       "    </tr>\n",
       "    <tr>\n",
       "      <th>99</th>\n",
       "      <td>100</td>\n",
       "      <td>Qualcomm</td>\n",
       "      <td>Technology</td>\n",
       "      <td>44,200</td>\n",
       "      <td>31.7%</td>\n",
       "      <td>51,000</td>\n",
       "      <td>San Diego, California</td>\n",
       "    </tr>\n",
       "  </tbody>\n",
       "</table>\n",
       "<p>100 rows × 7 columns</p>\n",
       "</div>"
      ],
      "text/plain": [
       "   Rank                      Name                    Industry  \\\n",
       "0     1                   Walmart                      Retail   \n",
       "1     2                    Amazon  Retail and cloud computing   \n",
       "2     3                ExxonMobil          Petroleum industry   \n",
       "3     4                     Apple        Electronics industry   \n",
       "4     5        UnitedHealth Group                  Healthcare   \n",
       "..  ...                       ...                         ...   \n",
       "95   96                  Best Buy                      Retail   \n",
       "96   97      Bristol-Myers Squibb     Pharmaceutical industry   \n",
       "97   98           United Airlines                     Airline   \n",
       "98   99  Thermo Fisher Scientific      Laboratory instruments   \n",
       "99  100                  Qualcomm                  Technology   \n",
       "\n",
       "   Revenue (USD millions) Revenue growth  Employees             Headquarters  \n",
       "0                 611,289           6.7%  2,100,000    Bentonville, Arkansas  \n",
       "1                 513,983           9.4%  1,540,000      Seattle, Washington  \n",
       "2                 413,680          44.8%     62,000            Spring, Texas  \n",
       "3                 394,328           7.8%    164,000    Cupertino, California  \n",
       "4                 324,162          12.7%    400,000    Minnetonka, Minnesota  \n",
       "..                    ...            ...        ...                      ...  \n",
       "95                 46,298          10.6%     71,100     Richfield, Minnesota  \n",
       "96                 46,159           0.5%     34,300  New York City, New York  \n",
       "97                 44,955          82.5%     92,795        Chicago, Illinois  \n",
       "98                 44,915          14.5%    130,000   Waltham, Massachusetts  \n",
       "99                 44,200          31.7%     51,000    San Diego, California  \n",
       "\n",
       "[100 rows x 7 columns]"
      ]
     },
     "execution_count": 9,
     "metadata": {},
     "output_type": "execute_result"
    }
   ],
   "source": [
    "df"
   ]
  },
  {
   "cell_type": "markdown",
   "id": "a24dad1a",
   "metadata": {},
   "source": [
    "## Part 3 : Exporting to CSV File"
   ]
  },
  {
   "cell_type": "markdown",
   "id": "436c7380",
   "metadata": {},
   "source": [
    "Finally we will export the table as csv file into local storage"
   ]
  },
  {
   "cell_type": "code",
   "execution_count": 10,
   "id": "8f09645a",
   "metadata": {},
   "outputs": [],
   "source": [
    "#Exporting the table we got as csv file into local storage\n",
    "df.to_csv(r'C:\\Users\\M S I\\Documents\\Project\\Output\\Company_list.csv', index = False) #excluding the index"
   ]
  }
 ],
 "metadata": {
  "kernelspec": {
   "display_name": "Python 3 (ipykernel)",
   "language": "python",
   "name": "python3"
  },
  "language_info": {
   "codemirror_mode": {
    "name": "ipython",
    "version": 3
   },
   "file_extension": ".py",
   "mimetype": "text/x-python",
   "name": "python",
   "nbconvert_exporter": "python",
   "pygments_lexer": "ipython3",
   "version": "3.11.5"
  }
 },
 "nbformat": 4,
 "nbformat_minor": 5
}
